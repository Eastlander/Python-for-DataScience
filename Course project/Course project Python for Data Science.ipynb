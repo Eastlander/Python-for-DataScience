{
 "cells": [
  {
   "cell_type": "code",
   "execution_count": 1,
   "metadata": {
    "_cell_guid": "b1076dfc-b9ad-4769-8c92-a6c4dae69d19",
    "_uuid": "8f2839f25d086af736a60e9eeb907d3b93b6e0e5",
    "execution": {
     "iopub.execute_input": "2020-10-22T20:15:16.978952Z",
     "iopub.status.busy": "2020-10-22T20:15:16.978104Z",
     "iopub.status.idle": "2020-10-22T20:15:18.405497Z",
     "shell.execute_reply": "2020-10-22T20:15:18.404779Z"
    },
    "papermill": {
     "duration": 1.448914,
     "end_time": "2020-10-22T20:15:18.405653",
     "exception": false,
     "start_time": "2020-10-22T20:15:16.956739",
     "status": "completed"
    },
    "tags": []
   },
   "outputs": [],
   "source": [
    "import datetime # для работы со времнем\n",
    "import gc # сборщик мусора\n",
    "import warnings\n",
    "import matplotlib.pyplot as plt\n",
    "import numpy as np # linear algebra\n",
    "import pandas as pd # data processing, CSV file I/O (e.g. pd.read_csv)\n",
    "\n",
    "from sklearn.ensemble import RandomForestRegressor\n",
    "from sklearn.metrics import r2_score\n",
    "from sklearn.model_selection import train_test_split, KFold, GridSearchCV, cross_val_score\n",
    "\n",
    "from lightgbm import LGBMRegressor\n",
    "warnings.filterwarnings('ignore')\n",
    "%matplotlib inline"
   ]
  },
  {
   "cell_type": "code",
   "execution_count": 2,
   "metadata": {
    "_cell_guid": "79c7e3d0-c299-4dcb-8224-4455121ee9b0",
    "_uuid": "d629ff2d2480ee46fbb7e2d37f6b5fab8052498a",
    "execution": {
     "iopub.execute_input": "2020-10-22T20:15:18.433400Z",
     "iopub.status.busy": "2020-10-22T20:15:18.431111Z",
     "iopub.status.idle": "2020-10-22T20:15:18.627710Z",
     "shell.execute_reply": "2020-10-22T20:15:18.628269Z"
    },
    "papermill": {
     "duration": 0.214097,
     "end_time": "2020-10-22T20:15:18.628426",
     "exception": false,
     "start_time": "2020-10-22T20:15:18.414329",
     "status": "completed"
    },
    "tags": []
   },
   "outputs": [
    {
     "name": "stdout",
     "output_type": "stream",
     "text": [
      "Строк в трейне: 10000\n",
      "Строк в тесте 5000\n"
     ]
    },
    {
     "data": {
      "text/plain": [
       "0"
      ]
     },
     "execution_count": 2,
     "metadata": {},
     "output_type": "execute_result"
    }
   ],
   "source": [
    "DATASET_PATH = 'P:\\Обучение\\Домашка по библиотекам Python\\КП по Python_for_Data_Science/train.csv'\n",
    "TEST_DATASET_PATH = 'P:\\Обучение\\Домашка по библиотекам Python\\КП по Python_for_Data_Science/test.csv'\n",
    "\n",
    "df = pd.read_csv(DATASET_PATH)\n",
    "\n",
    "X = df.copy()\n",
    "y = df[['Price']]\n",
    "\n",
    "X_final = pd.read_csv(TEST_DATASET_PATH)\n",
    "\n",
    "# сразу создам\n",
    "preds_final = pd.DataFrame()\n",
    "preds_final['Id'] = X_final['Id'].copy()\n",
    "\n",
    "X.set_index('Id', inplace=True)\n",
    "X_final.set_index('Id', inplace=True)\n",
    "\n",
    "print('Строк в трейне:' ,  X.shape[0])\n",
    "print('Строк в тесте', X_final.shape[0])\n",
    "\n",
    "# Удалим ненужные файлы\n",
    "del df\n",
    "gc.collect()"
   ]
  },
  {
   "cell_type": "code",
   "execution_count": 3,
   "metadata": {
    "execution": {
     "iopub.execute_input": "2020-10-22T20:15:18.661706Z",
     "iopub.status.busy": "2020-10-22T20:15:18.656520Z",
     "iopub.status.idle": "2020-10-22T20:15:18.693462Z",
     "shell.execute_reply": "2020-10-22T20:15:18.694018Z"
    },
    "papermill": {
     "duration": 0.056367,
     "end_time": "2020-10-22T20:15:18.694188",
     "exception": false,
     "start_time": "2020-10-22T20:15:18.637821",
     "status": "completed"
    },
    "tags": []
   },
   "outputs": [],
   "source": [
    "class Data:\n",
    "    \n",
    "    def __init__(self):\n",
    "        \"\"\"Константы для обработки выбросов на основе анализа данных\"\"\"\n",
    "        self.Square_min = 15\n",
    "        self.Square_max = 300\n",
    "        \n",
    "        self.LifeSquare_min = 10\n",
    "        self.LifeSquare_max = 280\n",
    "        \n",
    "        self.Rooms_min = 1\n",
    "        self.Rooms_max = 5\n",
    "        \n",
    "        self.HouseFloor_min = 1\n",
    "        self.HouseFloor_max = 50\n",
    "        \n",
    "        self.KitchenSquare_min = 3\n",
    "        self.KitchenSquare_max = 30\n",
    "        \n",
    "        self.current_year = datetime.datetime.now().year\n",
    "        \n",
    "        self.medians = None\n",
    "        self.DistrictId_value_counts = None\n",
    "        self.SquareMeterPrice_by_DistrictId = None\n",
    "        self.Healthcare_1_by_DistrictId = None\n",
    "        \n",
    "        \n",
    "    def fit(self, df):\n",
    "        \n",
    "        # медианные значения\n",
    "        self.medians = df[['LifeSquare', 'HouseFloor']].median()\n",
    "        \n",
    "        # подсчет популярных районов\n",
    "        self.DistrictId_value_counts = dict(df['DistrictId'].value_counts())\n",
    "        \n",
    "        # подсчет средней цены за м2 по району\n",
    "        df_temp = df.loc[((df['Square'] > self.Square_min) & (df['Square'] < self.Square_max))]\n",
    "        df_temp[\"SquareMeterPrice\"] = df_temp[\"Price\"] / df_temp[\"Square\"]\n",
    "        self.SquareMeterPrice_by_DistrictId = df_temp.groupby('DistrictId', as_index=False)\\\n",
    "            .agg({'SquareMeterPrice': 'mean'})\\\n",
    "            .rename(columns={'SquareMeterPrice': 'AverageSquareMeterPrice'})\n",
    "        \n",
    "        # подсчет среднего значения признака Healthcare_1 по району\n",
    "        self.Healthcare_1_by_DistrictId = df.groupby('DistrictId', as_index=False)\\\n",
    "            .agg({'Healthcare_1': 'mean'})\\\n",
    "            .rename(columns={'Healthcare_1': 'AverageHealthcare_1'})\n",
    "        \n",
    "        del df_temp\n",
    "        \n",
    "    def transform(self, df):\n",
    "        \n",
    "        # Обработка пропусков\n",
    "        df[['LifeSquare', 'HouseFloor']] = df[['LifeSquare', 'HouseFloor']].fillna(self.medians)\n",
    "        \n",
    "        # Обработка выбросов\n",
    "        \n",
    "        # площадь\n",
    "        df.loc[(df['Square'] > self.Square_max), 'Square'] = self.Square_max\n",
    "        df.loc[(df['Square'] < self.Square_min), 'Square'] = self.Square_min\n",
    "        \n",
    "        # жилая площадь\n",
    "        df.loc[(df['LifeSquare'] < self.LifeSquare_min), 'LifeSquare'] = self.LifeSquare_min\n",
    "        df.loc[(df['LifeSquare'] > self.LifeSquare_max), 'LifeSquare'] = self.LifeSquare_max\n",
    "        \n",
    "        # площадь кухни\n",
    "        df.loc[(df['KitchenSquare'] < self.KitchenSquare_min), 'KitchenSquare'] = self.KitchenSquare_min\n",
    "        df.loc[(df['KitchenSquare'] > self.KitchenSquare_max), 'KitchenSquare'] = self.KitchenSquare_max\n",
    "        \n",
    "        # год постройки дома\n",
    "        df.loc[(df['HouseYear'] > self.current_year), 'HouseYear'] = self.current_year\n",
    "        \n",
    "        # количество комнат\n",
    "        df.loc[(df['Rooms'] > self.Rooms_max), 'Rooms'] = self.Rooms_max\n",
    "        df.loc[(df['Rooms'] < self.Rooms_min), 'Rooms'] = self.Rooms_min\n",
    "        \n",
    "        # количество этажей\n",
    "        df.loc[(df['HouseFloor'] < self.HouseFloor_min), 'HouseFloor'] = self.HouseFloor_min\n",
    "        df.loc[(df['HouseFloor'] > self.HouseFloor_max), 'HouseFloor'] = self.HouseFloor_max\n",
    "        \n",
    "        # если этаж больше этажности дома, то присваиваем случайный этаж от self.HouseFloor_min до максимального этажа в доме\n",
    "        floor_outliers = df.loc[df['Floor'] > df['HouseFloor']].index\n",
    "        df.loc[floor_outliers, 'Floor'] = df.loc[floor_outliers, 'HouseFloor'].apply(lambda x: self.HouseFloor_min if (self.HouseFloor_min == x) else np.random.randint(self.HouseFloor_min, x))\n",
    "        \n",
    "        # Обработка категорий\n",
    "        df = pd.concat([df, pd.get_dummies(df['Ecology_2'], prefix='Ecology_2', dtype='int8')], axis=1)\n",
    "        df = pd.concat([df, pd.get_dummies(df['Ecology_3'], prefix='Ecology_3', dtype='int8')], axis=1)\n",
    "        df = pd.concat([df, pd.get_dummies(df['Shops_2'], prefix='Shops_2', dtype='int8')], axis=1)\n",
    "        \n",
    "        return df\n",
    "    \n",
    "    def features(self, df):\n",
    "        \n",
    "        # добавление признака популярности района\n",
    "        df['DistrictId_counts'] = df['DistrictId'].map(self.DistrictId_value_counts)\n",
    "        df['DistrictId_counts'].fillna(df['DistrictId_counts'].median(), inplace=True)\n",
    "        \n",
    "        # добавление признака средней стоимости м2 по району\n",
    "        df = df.merge(self.SquareMeterPrice_by_DistrictId, on=[\"DistrictId\"], how='left')\n",
    "        df['AverageSquareMeterPrice'].fillna(df['AverageSquareMeterPrice'].median(), inplace=True)\n",
    "        \n",
    "        # добавление признака среднего значения Healthcare_1 по району\n",
    "        df = df.merge(self.Healthcare_1_by_DistrictId, on=[\"DistrictId\"], how='left')\n",
    "        df['AverageHealthcare_1'].fillna(df['AverageHealthcare_1'].median(), inplace=True)\n",
    "        df['SQUARE_LIFE'] = (df['Square'] / df['LifeSquare'])\n",
    "        df['SQUARE_KIT'] = (df['Square'] / df['KitchenSquare'])\n",
    "        df['SQUARE_ROOM'] = (df['LifeSquare'] / df['Rooms'])\n",
    "\n",
    "        \n",
    "        return df\n",
    "        "
   ]
  },
  {
   "cell_type": "code",
   "execution_count": 4,
   "metadata": {
    "execution": {
     "iopub.execute_input": "2020-10-22T20:15:18.721422Z",
     "iopub.status.busy": "2020-10-22T20:15:18.720630Z",
     "iopub.status.idle": "2020-10-22T20:15:18.895519Z",
     "shell.execute_reply": "2020-10-22T20:15:18.894688Z"
    },
    "papermill": {
     "duration": 0.191862,
     "end_time": "2020-10-22T20:15:18.895654",
     "exception": false,
     "start_time": "2020-10-22T20:15:18.703792",
     "status": "completed"
    },
    "tags": []
   },
   "outputs": [],
   "source": [
    "data_inst = Data()\n",
    "\n",
    "# тренировочные данные\n",
    "data_inst.fit(X)\n",
    "X = data_inst.transform(X)\n",
    "X = data_inst.features(X)\n",
    "\n",
    "# валидационные данные\n",
    "X_final = data_inst.transform(X_final)\n",
    "X_final = data_inst.features(X_final)"
   ]
  },
  {
   "cell_type": "code",
   "execution_count": 5,
   "metadata": {
    "execution": {
     "iopub.execute_input": "2020-10-22T20:15:18.929593Z",
     "iopub.status.busy": "2020-10-22T20:15:18.928809Z",
     "iopub.status.idle": "2020-10-22T20:15:18.939409Z",
     "shell.execute_reply": "2020-10-22T20:15:18.940198Z"
    },
    "papermill": {
     "duration": 0.03493,
     "end_time": "2020-10-22T20:15:18.940404",
     "exception": false,
     "start_time": "2020-10-22T20:15:18.905474",
     "status": "completed"
    },
    "tags": []
   },
   "outputs": [],
   "source": [
    "feature_names = ['AverageSquareMeterPrice', 'DistrictId_counts', 'Rooms', 'Square', 'LifeSquare', 'KitchenSquare', 'Floor',\n",
    "                    'HouseFloor', 'HouseYear', 'Helthcare_2', 'Ecology_1', 'Social_1', 'Social_2', 'Social_3',\n",
    "                    'Shops_1', 'Ecology_2_A', 'Ecology_2_B', 'Ecology_3_A', 'Ecology_3_B', 'Shops_2_A', 'Shops_2_B',\n",
    "                    'AverageHealthcare_1', 'SQUARE_LIFE', 'SQUARE_KIT', 'SQUARE_ROOM',]\n",
    "\n",
    "\n",
    "X1 = X[feature_names]\n",
    "X1_final = X_final[feature_names]"
   ]
  },
  {
   "cell_type": "code",
   "execution_count": 6,
   "metadata": {},
   "outputs": [
    {
     "name": "stdout",
     "output_type": "stream",
     "text": [
      "[LightGBM] [Warning] Accuracy may be bad since you didn't set num_leaves and 2^max_depth > num_leaves\n",
      "[LightGBM] [Warning] Accuracy may be bad since you didn't set num_leaves and 2^max_depth > num_leaves\n",
      "[LightGBM] [Warning] Accuracy may be bad since you didn't set num_leaves and 2^max_depth > num_leaves\n",
      "[LightGBM] [Warning] Accuracy may be bad since you didn't set num_leaves and 2^max_depth > num_leaves\n",
      "[LightGBM] [Warning] Accuracy may be bad since you didn't set num_leaves and 2^max_depth > num_leaves\n",
      "[LightGBM] [Warning] Accuracy may be bad since you didn't set num_leaves and 2^max_depth > num_leaves\n",
      "[LightGBM] [Warning] Accuracy may be bad since you didn't set num_leaves and 2^max_depth > num_leaves\n",
      "R2: 0.752 +- 0.024\n"
     ]
    }
   ],
   "source": [
    "model = LGBMRegressor(max_depth=6,\n",
    "                             n_estimators=500,\n",
    "                             random_state=42)\n",
    "\n",
    "cv_score = cross_val_score(model, X1, y, \n",
    "                           scoring='r2', \n",
    "                           cv=KFold(n_splits=6, shuffle=True, random_state=42))\n",
    "\n",
    "model.fit(X1, y)\n",
    "# cv_score\n",
    "mean = cv_score.mean()\n",
    "std = cv_score.std()\n",
    "\n",
    "print('R2: {:.3f} +- {:.3f}'.format(mean, std))"
   ]
  },
  {
   "cell_type": "code",
   "execution_count": 7,
   "metadata": {
    "execution": {
     "iopub.execute_input": "2020-10-22T20:15:24.777625Z",
     "iopub.status.busy": "2020-10-22T20:15:24.776743Z",
     "iopub.status.idle": "2020-10-22T20:15:25.203983Z",
     "shell.execute_reply": "2020-10-22T20:15:25.204604Z"
    },
    "papermill": {
     "duration": 0.452308,
     "end_time": "2020-10-22T20:15:25.204769",
     "exception": false,
     "start_time": "2020-10-22T20:15:24.752461",
     "status": "completed"
    },
    "tags": []
   },
   "outputs": [
    {
     "data": {
      "image/png": "[encoded data removed]",
      "text/plain": [
       "<Figure size 1440x432 with 1 Axes>"
      ]
     },
     "metadata": {
      "needs_background": "light"
     },
     "output_type": "display_data"
    }
   ],
   "source": [
    "def plot_feature_importances(importances, X1):\n",
    "    \n",
    "    indices = np.argsort(importances)[::-1]\n",
    "\n",
    "    plt.figure(figsize = (20, 6))\n",
    "    plt.title(\"Feature importances\", fontsize=16)\n",
    "    plt.bar(range(X1.shape[1]), importances[indices] / importances.sum(),\n",
    "           color=\"darkblue\", align=\"center\")\n",
    "    plt.xticks(range(X1.shape[1]), X1.columns[indices], rotation = 90, fontsize=14)\n",
    "    plt.xlim([-1, X1.shape[1]])\n",
    "\n",
    "    plt.tight_layout()\n",
    "    # plt.savefig('fe.jpg')\n",
    "    plt.show()\n",
    "    \n",
    "plot_feature_importances(importances = model.feature_importances_, X1=X1)"
   ]
  },
  {
   "cell_type": "code",
   "execution_count": 8,
   "metadata": {
    "execution": {
     "iopub.execute_input": "2020-10-22T20:15:25.236272Z",
     "iopub.status.busy": "2020-10-22T20:15:25.235451Z",
     "iopub.status.idle": "2020-10-22T20:15:25.679332Z",
     "shell.execute_reply": "2020-10-22T20:15:25.678167Z"
    },
    "papermill": {
     "duration": 0.462156,
     "end_time": "2020-10-22T20:15:25.679509",
     "exception": false,
     "start_time": "2020-10-22T20:15:25.217353",
     "status": "completed"
    },
    "tags": []
   },
   "outputs": [
    {
     "data": {
      "text/html": [
       "<div>\n",
       "<style scoped>\n",
       "    .dataframe tbody tr th:only-of-type {\n",
       "        vertical-align: middle;\n",
       "    }\n",
       "\n",
       "    .dataframe tbody tr th {\n",
       "        vertical-align: top;\n",
       "    }\n",
       "\n",
       "    .dataframe thead th {\n",
       "        text-align: right;\n",
       "    }\n",
       "</style>\n",
       "<table border=\"1\" class=\"dataframe\">\n",
       "  <thead>\n",
       "    <tr style=\"text-align: right;\">\n",
       "      <th></th>\n",
       "      <th>Id</th>\n",
       "      <th>Price</th>\n",
       "    </tr>\n",
       "  </thead>\n",
       "  <tbody>\n",
       "    <tr>\n",
       "      <th>0</th>\n",
       "      <td>725</td>\n",
       "      <td>151815.248065</td>\n",
       "    </tr>\n",
       "    <tr>\n",
       "      <th>1</th>\n",
       "      <td>15856</td>\n",
       "      <td>226250.381676</td>\n",
       "    </tr>\n",
       "    <tr>\n",
       "      <th>2</th>\n",
       "      <td>5480</td>\n",
       "      <td>277032.710284</td>\n",
       "    </tr>\n",
       "    <tr>\n",
       "      <th>3</th>\n",
       "      <td>15664</td>\n",
       "      <td>338096.864875</td>\n",
       "    </tr>\n",
       "    <tr>\n",
       "      <th>4</th>\n",
       "      <td>14275</td>\n",
       "      <td>149263.604434</td>\n",
       "    </tr>\n",
       "  </tbody>\n",
       "</table>\n",
       "</div>"
      ],
      "text/plain": [
       "      Id          Price\n",
       "0    725  151815.248065\n",
       "1  15856  226250.381676\n",
       "2   5480  277032.710284\n",
       "3  15664  338096.864875\n",
       "4  14275  149263.604434"
      ]
     },
     "execution_count": 8,
     "metadata": {},
     "output_type": "execute_result"
    }
   ],
   "source": [
    "y_pred_final = model.predict(X1_final)\n",
    "\n",
    "preds_final['Price'] = y_pred_final\n",
    "preds_final.to_csv('AlBond.csv', index=False)\n",
    "\n",
    "preds_final.head()"
   ]
  }
 ],
 "metadata": {
  "kernelspec": {
   "display_name": "Python 3",
   "language": "python",
   "name": "python3"
  },
  "language_info": {
   "codemirror_mode": {
    "name": "ipython",
    "version": 3
   },
   "file_extension": ".py",
   "mimetype": "text/x-python",
   "name": "python",
   "nbconvert_exporter": "python",
   "pygments_lexer": "ipython3",
   "version": "3.8.3"
  },
  "papermill": {
   "duration": 14.985507,
   "end_time": "2020-10-22T20:15:26.783041",
   "environment_variables": {},
   "exception": null,
   "input_path": "__notebook__.ipynb",
   "output_path": "__notebook__.ipynb",
   "parameters": {},
   "start_time": "2020-10-22T20:15:11.797534",
   "version": "2.1.0"
  }
 },
 "nbformat": 4,
 "nbformat_minor": 4
}
